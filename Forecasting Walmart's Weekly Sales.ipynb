{
 "cells": [
  {
   "cell_type": "code",
   "execution_count": 1,
   "id": "6d53a957",
   "metadata": {},
   "outputs": [],
   "source": [
    "#import necessary libraries\n",
    "import pandas as pd\n",
    "import numpy as np\n",
    "from sklearn.model_selection import train_test_split\n",
    "from sklearn.ensemble import RandomForestRegressor\n",
    "from sklearn.metrics import mean_absolute_error"
   ]
  },
  {
   "cell_type": "markdown",
   "id": "d83e2c98",
   "metadata": {},
   "source": [
    "## Data Preprocessing"
   ]
  },
  {
   "cell_type": "code",
   "execution_count": 2,
   "id": "1e57e31c",
   "metadata": {},
   "outputs": [],
   "source": [
    "df = pd.read_csv(\"walmart_cleaned.csv\") #load walmart data into dataframe"
   ]
  },
  {
   "cell_type": "code",
   "execution_count": 3,
   "id": "3ab4a07b",
   "metadata": {},
   "outputs": [],
   "source": [
    "df = df.loc[df[\"Store\"] == 39] #filter data to only include Store 39 cause (128 mod 45 ) + 1 "
   ]
  },
  {
   "cell_type": "code",
   "execution_count": 4,
   "id": "4fbc331b",
   "metadata": {},
   "outputs": [],
   "source": [
    "df = df.loc[df[\"Dept\"].isin([1, 17, 26])]"
   ]
  },
  {
   "cell_type": "code",
   "execution_count": 5,
   "id": "03bfd889",
   "metadata": {},
   "outputs": [],
   "source": [
    "df.drop(['Unnamed: 0',\"Store\",\"Next week\",\"MarkDown1\",\"MarkDown2\",\"MarkDown3\",\"MarkDown4\",\"MarkDown5\"],axis=1,inplace=True)"
   ]
  },
  {
   "cell_type": "code",
   "execution_count": 6,
   "id": "3db737d4",
   "metadata": {},
   "outputs": [
    {
     "data": {
      "text/plain": [
       "(429, 10)"
      ]
     },
     "execution_count": 6,
     "metadata": {},
     "output_type": "execute_result"
    }
   ],
   "source": [
    "df = df.loc[df['Weekly_Sales'] > 0]\n",
    "df.shape"
   ]
  },
  {
   "cell_type": "code",
   "execution_count": 7,
   "id": "0e1ee121",
   "metadata": {},
   "outputs": [],
   "source": [
    "from datetime import datetime\n",
    "\n",
    "df['Date'] = df['Date'].apply(lambda x: datetime.strptime(x, '%d-%m-%y'))#more usable format for time series analysis"
   ]
  },
  {
   "cell_type": "code",
   "execution_count": 8,
   "id": "8be72852",
   "metadata": {},
   "outputs": [],
   "source": [
    "df.sort_values(by='Date', ascending=True, inplace=True) #sort the df by Date in ascending order"
   ]
  },
  {
   "cell_type": "code",
   "execution_count": 9,
   "id": "ab95ad59",
   "metadata": {},
   "outputs": [],
   "source": [
    "# computing the range of Date\n",
    "oldest_date=df['Date'].iloc[0]\n",
    "latest_date=df['Date'].iloc[-1]\n",
    "date_range = pd.date_range(start=oldest_date, end=latest_date, freq='Y')\n",
    "three_years_before = latest_date - pd.Timedelta(days=365*3)"
   ]
  },
  {
   "cell_type": "markdown",
   "id": "13b381ae",
   "metadata": {},
   "source": [
    "### Data separated by one train year, one test year and the last validation"
   ]
  },
  {
   "cell_type": "code",
   "execution_count": 10,
   "id": "828600c1",
   "metadata": {},
   "outputs": [],
   "source": [
    "train_start = oldest_date\n",
    "train_end = oldest_date + pd.Timedelta(days=365)\n",
    "\n",
    "test_start = train_end\n",
    "test_end = test_start + pd.Timedelta(days=365)\n",
    "\n",
    "val_start = test_end\n",
    "val_end = latest_date\n",
    "\n",
    "train_df = df[(df['Date'] >= train_start) & (df['Date'] <= train_end)]\n",
    "test_df = df[(df['Date'] >= test_start) & (df['Date'] <= test_end)]\n",
    "val_df = df[(df['Date'] >= val_start) & (df['Date'] <= val_end)]"
   ]
  },
  {
   "cell_type": "code",
   "execution_count": 11,
   "id": "17d0c3a0",
   "metadata": {},
   "outputs": [
    {
     "data": {
      "text/html": [
       "<div>\n",
       "<style scoped>\n",
       "    .dataframe tbody tr th:only-of-type {\n",
       "        vertical-align: middle;\n",
       "    }\n",
       "\n",
       "    .dataframe tbody tr th {\n",
       "        vertical-align: top;\n",
       "    }\n",
       "\n",
       "    .dataframe thead th {\n",
       "        text-align: right;\n",
       "    }\n",
       "</style>\n",
       "<table border=\"1\" class=\"dataframe\">\n",
       "  <thead>\n",
       "    <tr style=\"text-align: right;\">\n",
       "      <th></th>\n",
       "      <th>Date</th>\n",
       "      <th>IsHoliday</th>\n",
       "      <th>Dept</th>\n",
       "      <th>Weekly_Sales</th>\n",
       "      <th>Temperature</th>\n",
       "      <th>Fuel_Price</th>\n",
       "      <th>CPI</th>\n",
       "      <th>Unemployment</th>\n",
       "      <th>Type</th>\n",
       "      <th>Size</th>\n",
       "    </tr>\n",
       "  </thead>\n",
       "  <tbody>\n",
       "    <tr>\n",
       "      <th>361077</th>\n",
       "      <td>2010-02-05</td>\n",
       "      <td>0</td>\n",
       "      <td>1</td>\n",
       "      <td>21244.50</td>\n",
       "      <td>44.30</td>\n",
       "      <td>2.572</td>\n",
       "      <td>209.852966</td>\n",
       "      <td>8.554</td>\n",
       "      <td>3</td>\n",
       "      <td>184109</td>\n",
       "    </tr>\n",
       "    <tr>\n",
       "      <th>361113</th>\n",
       "      <td>2010-02-05</td>\n",
       "      <td>0</td>\n",
       "      <td>26</td>\n",
       "      <td>8126.40</td>\n",
       "      <td>44.30</td>\n",
       "      <td>2.572</td>\n",
       "      <td>209.852966</td>\n",
       "      <td>8.554</td>\n",
       "      <td>3</td>\n",
       "      <td>184109</td>\n",
       "    </tr>\n",
       "    <tr>\n",
       "      <th>361133</th>\n",
       "      <td>2010-02-05</td>\n",
       "      <td>0</td>\n",
       "      <td>17</td>\n",
       "      <td>11486.59</td>\n",
       "      <td>44.30</td>\n",
       "      <td>2.572</td>\n",
       "      <td>209.852966</td>\n",
       "      <td>8.554</td>\n",
       "      <td>3</td>\n",
       "      <td>184109</td>\n",
       "    </tr>\n",
       "    <tr>\n",
       "      <th>361186</th>\n",
       "      <td>2010-02-12</td>\n",
       "      <td>1</td>\n",
       "      <td>1</td>\n",
       "      <td>39584.16</td>\n",
       "      <td>44.58</td>\n",
       "      <td>2.548</td>\n",
       "      <td>209.997021</td>\n",
       "      <td>8.554</td>\n",
       "      <td>3</td>\n",
       "      <td>184109</td>\n",
       "    </tr>\n",
       "    <tr>\n",
       "      <th>361194</th>\n",
       "      <td>2010-02-12</td>\n",
       "      <td>1</td>\n",
       "      <td>26</td>\n",
       "      <td>7651.69</td>\n",
       "      <td>44.58</td>\n",
       "      <td>2.548</td>\n",
       "      <td>209.997021</td>\n",
       "      <td>8.554</td>\n",
       "      <td>3</td>\n",
       "      <td>184109</td>\n",
       "    </tr>\n",
       "    <tr>\n",
       "      <th>...</th>\n",
       "      <td>...</td>\n",
       "      <td>...</td>\n",
       "      <td>...</td>\n",
       "      <td>...</td>\n",
       "      <td>...</td>\n",
       "      <td>...</td>\n",
       "      <td>...</td>\n",
       "      <td>...</td>\n",
       "      <td>...</td>\n",
       "      <td>...</td>\n",
       "    </tr>\n",
       "    <tr>\n",
       "      <th>364632</th>\n",
       "      <td>2011-01-28</td>\n",
       "      <td>0</td>\n",
       "      <td>1</td>\n",
       "      <td>14960.31</td>\n",
       "      <td>47.94</td>\n",
       "      <td>3.010</td>\n",
       "      <td>210.968241</td>\n",
       "      <td>8.395</td>\n",
       "      <td>3</td>\n",
       "      <td>184109</td>\n",
       "    </tr>\n",
       "    <tr>\n",
       "      <th>364647</th>\n",
       "      <td>2011-01-28</td>\n",
       "      <td>0</td>\n",
       "      <td>26</td>\n",
       "      <td>6480.16</td>\n",
       "      <td>47.94</td>\n",
       "      <td>3.010</td>\n",
       "      <td>210.968241</td>\n",
       "      <td>8.395</td>\n",
       "      <td>3</td>\n",
       "      <td>184109</td>\n",
       "    </tr>\n",
       "    <tr>\n",
       "      <th>364729</th>\n",
       "      <td>2011-02-04</td>\n",
       "      <td>0</td>\n",
       "      <td>26</td>\n",
       "      <td>7990.14</td>\n",
       "      <td>45.96</td>\n",
       "      <td>2.989</td>\n",
       "      <td>211.333375</td>\n",
       "      <td>8.395</td>\n",
       "      <td>3</td>\n",
       "      <td>184109</td>\n",
       "    </tr>\n",
       "    <tr>\n",
       "      <th>364695</th>\n",
       "      <td>2011-02-04</td>\n",
       "      <td>0</td>\n",
       "      <td>1</td>\n",
       "      <td>19488.92</td>\n",
       "      <td>45.96</td>\n",
       "      <td>2.989</td>\n",
       "      <td>211.333375</td>\n",
       "      <td>8.395</td>\n",
       "      <td>3</td>\n",
       "      <td>184109</td>\n",
       "    </tr>\n",
       "    <tr>\n",
       "      <th>364717</th>\n",
       "      <td>2011-02-04</td>\n",
       "      <td>0</td>\n",
       "      <td>17</td>\n",
       "      <td>10958.78</td>\n",
       "      <td>45.96</td>\n",
       "      <td>2.989</td>\n",
       "      <td>211.333375</td>\n",
       "      <td>8.395</td>\n",
       "      <td>3</td>\n",
       "      <td>184109</td>\n",
       "    </tr>\n",
       "  </tbody>\n",
       "</table>\n",
       "<p>159 rows × 10 columns</p>\n",
       "</div>"
      ],
      "text/plain": [
       "             Date  IsHoliday  Dept  Weekly_Sales  Temperature  Fuel_Price  \\\n",
       "361077 2010-02-05          0     1      21244.50        44.30       2.572   \n",
       "361113 2010-02-05          0    26       8126.40        44.30       2.572   \n",
       "361133 2010-02-05          0    17      11486.59        44.30       2.572   \n",
       "361186 2010-02-12          1     1      39584.16        44.58       2.548   \n",
       "361194 2010-02-12          1    26       7651.69        44.58       2.548   \n",
       "...           ...        ...   ...           ...          ...         ...   \n",
       "364632 2011-01-28          0     1      14960.31        47.94       3.010   \n",
       "364647 2011-01-28          0    26       6480.16        47.94       3.010   \n",
       "364729 2011-02-04          0    26       7990.14        45.96       2.989   \n",
       "364695 2011-02-04          0     1      19488.92        45.96       2.989   \n",
       "364717 2011-02-04          0    17      10958.78        45.96       2.989   \n",
       "\n",
       "               CPI  Unemployment  Type    Size  \n",
       "361077  209.852966         8.554     3  184109  \n",
       "361113  209.852966         8.554     3  184109  \n",
       "361133  209.852966         8.554     3  184109  \n",
       "361186  209.997021         8.554     3  184109  \n",
       "361194  209.997021         8.554     3  184109  \n",
       "...            ...           ...   ...     ...  \n",
       "364632  210.968241         8.395     3  184109  \n",
       "364647  210.968241         8.395     3  184109  \n",
       "364729  211.333375         8.395     3  184109  \n",
       "364695  211.333375         8.395     3  184109  \n",
       "364717  211.333375         8.395     3  184109  \n",
       "\n",
       "[159 rows x 10 columns]"
      ]
     },
     "execution_count": 11,
     "metadata": {},
     "output_type": "execute_result"
    }
   ],
   "source": [
    "train_df"
   ]
  },
  {
   "cell_type": "code",
   "execution_count": 12,
   "id": "07c6a299",
   "metadata": {},
   "outputs": [
    {
     "name": "stdout",
     "output_type": "stream",
     "text": [
      "Train set shape: (159, 10)\n",
      "Test set shape: (156, 10)\n",
      "Validation set shape: (114, 10)\n"
     ]
    }
   ],
   "source": [
    "print(f\"Train set shape: {train_df.shape}\")\n",
    "print(f\"Test set shape: {test_df.shape}\")\n",
    "print(f\"Validation set shape: {val_df.shape}\")"
   ]
  },
  {
   "cell_type": "markdown",
   "id": "9c885a74",
   "metadata": {},
   "source": [
    "Split into features and target"
   ]
  },
  {
   "cell_type": "code",
   "execution_count": 13,
   "id": "02bf7cf8",
   "metadata": {
    "scrolled": true
   },
   "outputs": [
    {
     "name": "stderr",
     "output_type": "stream",
     "text": [
      "C:\\Users\\loukr\\AppData\\Local\\Temp\\ipykernel_2400\\1029631798.py:2: SettingWithCopyWarning: \n",
      "A value is trying to be set on a copy of a slice from a DataFrame.\n",
      "Try using .loc[row_indexer,col_indexer] = value instead\n",
      "\n",
      "See the caveats in the documentation: https://pandas.pydata.org/pandas-docs/stable/user_guide/indexing.html#returning-a-view-versus-a-copy\n",
      "  df['Next_Week'] = df.groupby(['Dept'])['Weekly_Sales'].shift(-1)\n",
      "C:\\Users\\loukr\\AppData\\Local\\Temp\\ipykernel_2400\\1029631798.py:3: SettingWithCopyWarning: \n",
      "A value is trying to be set on a copy of a slice from a DataFrame\n",
      "\n",
      "See the caveats in the documentation: https://pandas.pydata.org/pandas-docs/stable/user_guide/indexing.html#returning-a-view-versus-a-copy\n",
      "  df.dropna(inplace=True)\n",
      "C:\\Users\\loukr\\AppData\\Local\\Temp\\ipykernel_2400\\1029631798.py:2: SettingWithCopyWarning: \n",
      "A value is trying to be set on a copy of a slice from a DataFrame.\n",
      "Try using .loc[row_indexer,col_indexer] = value instead\n",
      "\n",
      "See the caveats in the documentation: https://pandas.pydata.org/pandas-docs/stable/user_guide/indexing.html#returning-a-view-versus-a-copy\n",
      "  df['Next_Week'] = df.groupby(['Dept'])['Weekly_Sales'].shift(-1)\n",
      "C:\\Users\\loukr\\AppData\\Local\\Temp\\ipykernel_2400\\1029631798.py:3: SettingWithCopyWarning: \n",
      "A value is trying to be set on a copy of a slice from a DataFrame\n",
      "\n",
      "See the caveats in the documentation: https://pandas.pydata.org/pandas-docs/stable/user_guide/indexing.html#returning-a-view-versus-a-copy\n",
      "  df.dropna(inplace=True)\n",
      "C:\\Users\\loukr\\AppData\\Local\\Temp\\ipykernel_2400\\1029631798.py:2: SettingWithCopyWarning: \n",
      "A value is trying to be set on a copy of a slice from a DataFrame.\n",
      "Try using .loc[row_indexer,col_indexer] = value instead\n",
      "\n",
      "See the caveats in the documentation: https://pandas.pydata.org/pandas-docs/stable/user_guide/indexing.html#returning-a-view-versus-a-copy\n",
      "  df['Next_Week'] = df.groupby(['Dept'])['Weekly_Sales'].shift(-1)\n",
      "C:\\Users\\loukr\\AppData\\Local\\Temp\\ipykernel_2400\\1029631798.py:3: SettingWithCopyWarning: \n",
      "A value is trying to be set on a copy of a slice from a DataFrame\n",
      "\n",
      "See the caveats in the documentation: https://pandas.pydata.org/pandas-docs/stable/user_guide/indexing.html#returning-a-view-versus-a-copy\n",
      "  df.dropna(inplace=True)\n"
     ]
    }
   ],
   "source": [
    "def create_target(df):\n",
    "    df['Next_Week'] = df.groupby(['Dept'])['Weekly_Sales'].shift(-1)\n",
    "    df.dropna(inplace=True)\n",
    "    return df\n",
    "\n",
    "train_df = create_target(train_df)\n",
    "test_df = create_target(test_df)\n",
    "val_df = create_target(val_df)\n",
    "\n",
    "X_train = train_df.drop(['Next_Week','Date'], axis=1)\n",
    "y_train = train_df['Next_Week']\n",
    "\n",
    "X_test = test_df.drop(['Next_Week','Date'], axis=1)\n",
    "y_test = test_df['Next_Week']\n",
    "\n",
    "X_val = val_df.drop(['Next_Week','Date'], axis=1)\n",
    "y_val = val_df['Next_Week']"
   ]
  },
  {
   "cell_type": "markdown",
   "id": "2d875b22",
   "metadata": {},
   "source": [
    "## Training"
   ]
  },
  {
   "cell_type": "markdown",
   "id": "c8dbfd61",
   "metadata": {},
   "source": [
    "### Hyperparameter tuning - Custom Grid Search"
   ]
  },
  {
   "cell_type": "code",
   "execution_count": 16,
   "id": "a9536a67",
   "metadata": {},
   "outputs": [
    {
     "name": "stdout",
     "output_type": "stream",
     "text": [
      "Best parameters: {'n_estimators': 100, 'max_depth': 20}\n",
      "Best validation MAE: 2540.880620720723\n"
     ]
    }
   ],
   "source": [
    "from sklearn.metrics import mean_absolute_error\n",
    "\n",
    "param_grid = {'n_estimators': [100, 200, 300],\n",
    "              'max_depth': [None, 10, 20]}\n",
    "\n",
    "best_params = None\n",
    "best_val_mae = float('inf')\n",
    "\n",
    "for n_estimators in param_grid['n_estimators']:\n",
    "    for max_depth in param_grid['max_depth']:\n",
    "        model = RandomForestRegressor(n_estimators=n_estimators, max_depth=max_depth, n_jobs=-1)\n",
    "        model.fit(X_train, y_train)\n",
    "        \n",
    "        y_val_pred = model.predict(X_val)\n",
    "        val_mae = mean_absolute_error(y_val, y_val_pred)\n",
    "        \n",
    "        if val_mae < best_val_mae:\n",
    "            best_params = {'n_estimators': n_estimators, 'max_depth': max_depth}\n",
    "            best_val_mae = val_mae\n",
    "\n",
    "print('Best parameters:', best_params)\n",
    "print('Best validation MAE:', best_val_mae)"
   ]
  },
  {
   "cell_type": "markdown",
   "id": "43ef95b5",
   "metadata": {},
   "source": [
    "Apply Best Hyperparameters"
   ]
  },
  {
   "cell_type": "code",
   "execution_count": 17,
   "id": "65970127",
   "metadata": {},
   "outputs": [
    {
     "data": {
      "text/plain": [
       "RandomForestRegressor(max_depth=10, n_estimators=200, n_jobs=-1)"
      ]
     },
     "execution_count": 17,
     "metadata": {},
     "output_type": "execute_result"
    }
   ],
   "source": [
    "model = RandomForestRegressor(n_estimators=200, max_depth=10, n_jobs=-1)\n",
    "model.fit(X_train, y_train)"
   ]
  },
  {
   "cell_type": "markdown",
   "id": "ef8657db",
   "metadata": {},
   "source": [
    "### Prediction"
   ]
  },
  {
   "cell_type": "markdown",
   "id": "2770cc9c",
   "metadata": {},
   "source": [
    "Prediction for test set"
   ]
  },
  {
   "cell_type": "code",
   "execution_count": 18,
   "id": "d8aadd51",
   "metadata": {},
   "outputs": [],
   "source": [
    "from sklearn.metrics import mean_absolute_error\n",
    "from sklearn.metrics import mean_absolute_percentage_error\n",
    "\n",
    "y_pred_test = model.predict(X_test)"
   ]
  },
  {
   "cell_type": "code",
   "execution_count": 19,
   "id": "47532e4a",
   "metadata": {},
   "outputs": [
    {
     "name": "stdout",
     "output_type": "stream",
     "text": [
      "Test set MAPE: 0.16137990871856508\n",
      "Test set MAE: 2818.3162703719954\n"
     ]
    }
   ],
   "source": [
    "#evaluate the model on the test set\n",
    "y_test_pred = model.predict(X_test)\n",
    "test_mape = mean_absolute_percentage_error(y_test, y_test_pred)\n",
    "test_mae = mean_absolute_error(y_test, y_test_pred)\n",
    "\n",
    "print(f\"Test set MAPE: {test_mape}\")\n",
    "print(f\"Test set MAE: {test_mae}\")"
   ]
  },
  {
   "cell_type": "markdown",
   "id": "63382a01",
   "metadata": {},
   "source": [
    "Prediction for Store 39"
   ]
  },
  {
   "cell_type": "code",
   "execution_count": 20,
   "id": "ab30c1a8",
   "metadata": {},
   "outputs": [],
   "source": [
    "y_pred=model.predict(df.drop(['Date'],axis=1))"
   ]
  },
  {
   "cell_type": "markdown",
   "id": "6169fa11",
   "metadata": {},
   "source": [
    "### Create csv"
   ]
  },
  {
   "cell_type": "code",
   "execution_count": 21,
   "id": "e4914c59",
   "metadata": {},
   "outputs": [],
   "source": [
    "df[\"Next Week\"]= y_pred"
   ]
  },
  {
   "cell_type": "code",
   "execution_count": 22,
   "id": "9cdf4528",
   "metadata": {},
   "outputs": [],
   "source": [
    "df.to_csv(\"walmart_cleaned_Store39.csv\", index=False)"
   ]
  }
 ],
 "metadata": {
  "kernelspec": {
   "display_name": "Python 3 (ipykernel)",
   "language": "python",
   "name": "python3"
  },
  "language_info": {
   "codemirror_mode": {
    "name": "ipython",
    "version": 3
   },
   "file_extension": ".py",
   "mimetype": "text/x-python",
   "name": "python",
   "nbconvert_exporter": "python",
   "pygments_lexer": "ipython3",
   "version": "3.9.13"
  }
 },
 "nbformat": 4,
 "nbformat_minor": 5
}
